{
 "cells": [
  {
   "cell_type": "code",
   "execution_count": 1,
   "metadata": {},
   "outputs": [],
   "source": [
    "#%matplotlib notebook\n",
    "%matplotlib inline\n",
    "\n",
    "import matplotlib.pyplot as plt\n",
    "from matplotlib import cm\n",
    "import numpy as np\n",
    "import pandas as pd\n",
    "import fileinput\n",
    "import re\n",
    "\n",
    "from io import StringIO\n",
    "from sklearn.preprocessing import MinMaxScaler\n",
    "\n",
    "import ipywidgets as widgets\n",
    "from ipywidgets import interact, IntRangeSlider, Layout, fixed"
   ]
  },
  {
   "cell_type": "markdown",
   "metadata": {},
   "source": [
    "# Data Transformation and Features Engineering Section"
   ]
  },
  {
   "cell_type": "code",
   "execution_count": 2,
   "metadata": {},
   "outputs": [],
   "source": [
    "train_file_path = \"Data/PM_train.txt\"\n",
    "test_file_path = \"Data/PM_test.txt\"\n",
    "colnames = [\"id\",\"cycle\",\"setting1\",\"setting2\",\"setting3\",\"s1\",\"s2\",\"s3\",\"s4\",\"s5\",\"s6\",\"s7\",\n",
    "           \"s8\",\"s9\",\"s10\",\"s11\",\"s12\",\"s13\",\"s14\",\"s15\",\"s16\",\"s17\",\"s18\",\"s19\",\"s20\",\"s21\"]"
   ]
  },
  {
   "cell_type": "code",
   "execution_count": 3,
   "metadata": {},
   "outputs": [],
   "source": [
    "def move_col_last(df,col_name):\n",
    "  return pd.concat([df.drop(col_name,axis=1),df[col_name]], axis=1)\n",
    "\n",
    "def move_col_first(df,col_name):\n",
    "  return pd.concat([df[col_name],df.drop(col_name,axis=1)], axis=1)\n",
    "\n",
    "def transfer_data(file_path,col_names):\n",
    "  # user defined variables to set the windows for classifcation\n",
    "  w1 = 30\n",
    "  w0 = 15\n",
    "  # window size (window_size>=2),  most recent sensor values\n",
    "  window_size = 5\n",
    "  \n",
    "  # read in the file\n",
    "  with open(file_path, 'r') as f:\n",
    "    filedata = f.read()\n",
    "  \n",
    "  # remove white space from the end of line\n",
    "  filedata = re.sub('\\s*$', '',filedata,flags = re.M)\n",
    "  \n",
    "  # filedata is a string that pretends to be a file input\n",
    "  file_as_string = StringIO(filedata)\n",
    "\n",
    "  dataset = pd.read_table(file_as_string,sep=\" \",names=colnames)\n",
    "  \n",
    "  # get the maximum cycle number for each id\n",
    "  d1 = dataset.groupby([\"id\"])[\"cycle\"].max().to_frame()\n",
    "  d1.columns = ['max']\n",
    "\n",
    "  # add column with the name 'id' (just copy the index)\n",
    "  d1['id'] = d1.index\n",
    "  d2 = pd.merge(dataset, d1, on='id')\n",
    "  \n",
    "  # generate the column RUL based on the values of columns \"max\" and \"cycle\"\n",
    "  d2['RUL'] = d2['max'] - d2['cycle']\n",
    "\n",
    "  # exclude column \"max\" from the data frame\n",
    "  d2 = d2.drop('max', 1)\n",
    "\n",
    "  # genearte label1 and label2\n",
    "  dataset = d2\n",
    "  dataset['label1'] = np.where(d2['RUL'] <= w1, 1, 0)\n",
    "  dataset['label2'] = np.where(d2['RUL'] <= w0, 2, (np.where(d2['RUL'] <= w1,1,0)))\n",
    "  \n",
    "  # exclude comuns id, cycle, setting1,setting2,setting3, and last 3 columns\n",
    "  # only the 21 sensor columns are kept in the data frame\n",
    "  n_pre_sensor_columns = 5 # id, cycle, setting1,setting2,setting3\n",
    "  n_after_sensor_columns = 3 #RUL, label1, label2\n",
    "  n_col = len(dataset.columns)\n",
    "\n",
    "  data = dataset[dataset.columns[n_pre_sensor_columns:n_col - n_after_sensor_columns]]\n",
    "  n_sensor=len(data.columns)\n",
    "\n",
    "  ids = dataset.id.unique()\n",
    "  n_id = len(ids) # 100\n",
    "\n",
    "  a = [\"a\" + str(i) for i in range(1,n_sensor+1)] # average\n",
    "  sd = [\"sd\" + str(i) for i in range(1,n_sensor+1)] # standard deviation\n",
    "\n",
    "  df = None\n",
    "  for i in range(1,n_id+1):\n",
    "    # get the subset of the data that only contains the sensor columns for the id i\n",
    "    subset_rolling_mean = data[dataset.id==i].rolling(window_size,axis=0,min_periods=1).mean()\n",
    "    subset_rolling_mean.columns = a\n",
    "    subset_rolling_std = data[dataset.id==i].rolling(window_size,axis=0,min_periods=1).std().fillna(0)\n",
    "    subset_rolling_std.columns = sd\n",
    "    subset = pd.concat([subset_rolling_mean,subset_rolling_std], axis=1)\n",
    "    df_tmp = pd.concat([dataset[dataset.id == i],subset], axis=1)\n",
    "    df_tmp = move_col_last(df_tmp,['RUL', 'label1','label2'])\n",
    "\n",
    "    if df is None:\n",
    "      df = df_tmp\n",
    "    else:\n",
    "      df = df.append(df_tmp,ignore_index=True)\n",
    "      \n",
    "  # Exclude column names: 'id','RUL','label1','label2'\n",
    "  X = df.drop(['id','RUL','label1','label2'], 1)\n",
    "  y = df['RUL']\n",
    "  \n",
    "  scaler = MinMaxScaler()\n",
    "  X = pd.DataFrame(scaler.fit_transform(X), index=X.index, columns=X.columns)\n",
    "\n",
    "  \n",
    "  # X = X.dropna(axis=1)\n",
    "  \n",
    "  # Delete all columns that contain only zeros\n",
    "  # X = X.loc[:, (df != 0).any(axis=0)]\n",
    "\n",
    "  return X,y.as_matrix()"
   ]
  },
  {
   "cell_type": "code",
   "execution_count": 4,
   "metadata": {},
   "outputs": [],
   "source": [
    "X, y = transfer_data(train_file_path,colnames)\n",
    "Xt, yt = transfer_data(test_file_path,colnames)"
   ]
  },
  {
   "cell_type": "markdown",
   "metadata": {},
   "source": [
    "# Training section"
   ]
  },
  {
   "cell_type": "code",
   "execution_count": 5,
   "metadata": {},
   "outputs": [
    {
     "data": {
      "text/plain": [
       "DecisionTreeRegressor(criterion='mse', max_depth=32, max_features=None,\n",
       "           max_leaf_nodes=2000, min_impurity_decrease=0.0,\n",
       "           min_impurity_split=None, min_samples_leaf=1,\n",
       "           min_samples_split=2, min_weight_fraction_leaf=0.0,\n",
       "           presort=False, random_state=None, splitter='best')"
      ]
     },
     "execution_count": 5,
     "metadata": {},
     "output_type": "execute_result"
    }
   ],
   "source": [
    "from sklearn.tree import DecisionTreeRegressor\n",
    "DecisionTree_regr = DecisionTreeRegressor(max_leaf_nodes=2000,max_depth=32)\n",
    "DecisionTree_regr.fit(X,y)"
   ]
  },
  {
   "cell_type": "code",
   "execution_count": 6,
   "metadata": {},
   "outputs": [
    {
     "data": {
      "text/plain": [
       "BaggingRegressor(base_estimator=DecisionTreeRegressor(criterion='mse', max_depth=32, max_features=None,\n",
       "           max_leaf_nodes=None, min_impurity_decrease=0.0,\n",
       "           min_impurity_split=None, min_samples_leaf=1,\n",
       "           min_samples_split=128, min_weight_fraction_leaf=0.0,\n",
       "           presort=False, random_state=None, splitter='best'),\n",
       "         bootstrap=True, bootstrap_features=False, max_features=1.0,\n",
       "         max_samples=1.0, n_estimators=8, n_jobs=1, oob_score=False,\n",
       "         random_state=None, verbose=0, warm_start=False)"
      ]
     },
     "execution_count": 6,
     "metadata": {},
     "output_type": "execute_result"
    }
   ],
   "source": [
    "from sklearn.ensemble import BaggingRegressor\n",
    "from sklearn.tree import DecisionTreeRegressor\n",
    "Bagging_regr = BaggingRegressor(DecisionTreeRegressor(max_depth=32,min_samples_split=128),n_estimators=8)\n",
    "Bagging_regr.fit(X,y)"
   ]
  },
  {
   "cell_type": "code",
   "execution_count": 7,
   "metadata": {},
   "outputs": [
    {
     "data": {
      "text/plain": [
       "Lasso(alpha=0.1, copy_X=True, fit_intercept=True, max_iter=1000,\n",
       "   normalize=False, positive=False, precompute=False, random_state=None,\n",
       "   selection='cyclic', tol=0.0001, warm_start=False)"
      ]
     },
     "execution_count": 7,
     "metadata": {},
     "output_type": "execute_result"
    }
   ],
   "source": [
    "from sklearn import linear_model\n",
    "Lasso_regr = linear_model.Lasso(alpha =.1)\n",
    "Lasso_regr.fit(X,y)"
   ]
  },
  {
   "cell_type": "code",
   "execution_count": 8,
   "metadata": {},
   "outputs": [
    {
     "data": {
      "text/plain": [
       "MLPRegressor(activation='relu', alpha=0.1, batch_size='auto', beta_1=0.9,\n",
       "       beta_2=0.999, early_stopping=False, epsilon=1e-08,\n",
       "       hidden_layer_sizes=(50,), learning_rate='constant',\n",
       "       learning_rate_init=0.001, max_iter=400, momentum=0.9,\n",
       "       nesterovs_momentum=True, power_t=0.5, random_state=1, shuffle=True,\n",
       "       solver='lbfgs', tol=0.0001, validation_fraction=0.1, verbose=False,\n",
       "       warm_start=False)"
      ]
     },
     "execution_count": 8,
     "metadata": {},
     "output_type": "execute_result"
    }
   ],
   "source": [
    "from sklearn import neural_network\n",
    "NeuralNetwork_regr = neural_network.MLPRegressor(alpha=.1,max_iter=400,hidden_layer_sizes=(50,),solver='lbfgs',random_state=1)\n",
    "NeuralNetwork_regr.fit(X,y)"
   ]
  },
  {
   "cell_type": "markdown",
   "metadata": {},
   "source": [
    "# Charts  Section"
   ]
  },
  {
   "cell_type": "markdown",
   "metadata": {},
   "source": [
    "## Charting functions"
   ]
  },
  {
   "cell_type": "code",
   "execution_count": 9,
   "metadata": {},
   "outputs": [],
   "source": [
    "RangeSlider = widgets.IntRangeSlider(\n",
    "    value=[8311,8391],\n",
    "    min=1,\n",
    "    max=len(Xt),\n",
    "    step=10,\n",
    "    description='Test:',\n",
    "    disabled=False,\n",
    "    continuous_update=False,\n",
    "    orientation='horizontal',\n",
    "    readout=True,\n",
    "    readout_format='d',\n",
    "    height=3,\n",
    "    layout=Layout(width='90%', height='50px'),\n",
    ")\n",
    "\n",
    "def scaler(arr):\n",
    "  scaler = MinMaxScaler()\n",
    "  return pd.DataFrame(scaler.fit_transform(pd.DataFrame(arr)))\n",
    "\n",
    "def Y_ploter(Range,Y):\n",
    "  start, end = Range\n",
    "  range_len = end-start\n",
    "  \n",
    "  plt.figure(figsize=(13,10))\n",
    "  \n",
    "  # pick colors\n",
    "  colors = cm.rainbow(np.linspace(0, 1, len(Y)))\n",
    "\n",
    "  for y,color in zip(Y.items(),colors):\n",
    "    plt.scatter(np.arange(start, end, 1),y[1][start:end], c=color, s=30/(range_len/80),alpha=0.5, label=y[0])\n",
    "\n",
    "  plt.grid()\n",
    "  plt.xlabel(\"%s data points\\n range [%s:%s]\" % (end-start,start,end))\n",
    "  plt.ylabel(\"GT Cycles and Predicted Cycles\")\n",
    "  plt.title(\" vs \".join([s for s in Y.keys()]))\n",
    "  plt.legend()\n",
    "  plt.show()\n",
    "\n",
    "def general_data_ploter(Range,Xs,y,scale_y):\n",
    "  start, end = Range\n",
    "  range_len = end-start\n",
    "  \n",
    "  plt.figure(figsize=(13,10))\n",
    "  \n",
    "  # pick colors\n",
    "  colors = cm.rainbow(np.linspace(0, 1, len(Xs)))\n",
    "  \n",
    "  for X,color in zip(Xs,colors):\n",
    "    # Get label\n",
    "    label = pd.DataFrame(X).columns[0]\n",
    "    if(label == 0):\n",
    "      label = 'y'\n",
    "    plt.scatter(np.arange(start, end, 1),X[start:end], c=color, s=30/(range_len/80),alpha=0.5, label=label)\n",
    "\n",
    "  if(scale_y):\n",
    "    y = scaler(y)\n",
    "\n",
    "  plt.grid()\n",
    "  plt.xlabel(\"%s data points\\n range [%s:%s]\" % (end-start,start,end))\n",
    "  plt.ylabel(\"Cycles and sensors values (Scalled)\")\n",
    "  plt.title(\"Scalled Data and Cycles\")\n",
    "  plt.legend()\n",
    "  plt.show()"
   ]
  },
  {
   "cell_type": "markdown",
   "metadata": {},
   "source": [
    "## Scores"
   ]
  },
  {
   "cell_type": "code",
   "execution_count": 10,
   "metadata": {},
   "outputs": [
    {
     "data": {
      "text/plain": [
       "<matplotlib.figure.Figure at 0x114f8cc88>"
      ]
     },
     "execution_count": 10,
     "metadata": {},
     "output_type": "execute_result"
    },
    {
     "data": {
      "image/png": "[encoded data removed]",
      "text/plain": [
       "<matplotlib.figure.Figure at 0x115b2f780>"
      ]
     },
     "metadata": {},
     "output_type": "display_data"
    },
    {
     "data": {
      "text/plain": [
       "<matplotlib.figure.Figure at 0x114f8cc88>"
      ]
     },
     "metadata": {},
     "output_type": "display_data"
    }
   ],
   "source": [
    "y_DecisionTree = DecisionTree_regr.predict(Xt)\n",
    "y_Bagging = Bagging_regr.predict(Xt)\n",
    "y_Lasso = Lasso_regr.predict(Xt)\n",
    "y_NeuralNetwork = NeuralNetwork_regr.predict(Xt)\n",
    "\n",
    "scores = {\n",
    "  \"Decision Tree\": DecisionTree_regr.score(Xt,yt),\n",
    "  \"Bagging\": Bagging_regr.score(Xt,yt),\n",
    "  \"Lasso\": Lasso_regr.score(Xt,yt),\n",
    "  \"Neural Network\": NeuralNetwork_regr.score(Xt,yt),\n",
    "}\n",
    "\n",
    "values = - np.array(list(scores.values()))\n",
    "keys = list(scores.keys())\n",
    "colors = ['#624ea7', 'g', 'yellow', 'k', 'maroon']\n",
    "plt.bar(range(len(scores)), values, align='center',color=cm.rainbow(np.linspace(0, 1, len(scores))))\n",
    "plt.xticks(range(len(scores)), keys)\n",
    "plt.title(\"Regressors Scores (less is better)\")\n",
    "plt.figure()"
   ]
  },
  {
   "cell_type": "code",
   "execution_count": 11,
   "metadata": {},
   "outputs": [
    {
     "data": {
      "application/vnd.jupyter.widget-view+json": {
       "model_id": "597651b9887e47b78543656a51e36d91",
       "version_major": 2,
       "version_minor": 0
      },
      "text/html": [
       "<p>Failed to display Jupyter Widget of type <code>interactive</code>.</p>\n",
       "<p>\n",
       "  If you're reading this message in the Jupyter Notebook or JupyterLab Notebook, it may mean\n",
       "  that the widgets JavaScript is still loading. If this message persists, it\n",
       "  likely means that the widgets JavaScript library is either not installed or\n",
       "  not enabled. See the <a href=\"https://ipywidgets.readthedocs.io/en/stable/user_install.html\">Jupyter\n",
       "  Widgets Documentation</a> for setup instructions.\n",
       "</p>\n",
       "<p>\n",
       "  If you're reading this message in another frontend (for example, a static\n",
       "  rendering on GitHub or <a href=\"https://nbviewer.jupyter.org/\">NBViewer</a>),\n",
       "  it may mean that your frontend doesn't currently support widgets.\n",
       "</p>\n"
      ],
      "text/plain": [
       "interactive(children=(IntRangeSlider(value=(8311, 8391), continuous_update=False, description='Test:', layout=Layout(height='50px', width='90%'), max=13096, min=1, step=10), Output()), _dom_classes=('widget-interact',))"
      ]
     },
     "metadata": {},
     "output_type": "display_data"
    },
    {
     "data": {
      "text/plain": [
       "<function __main__.Y_ploter>"
      ]
     },
     "execution_count": 11,
     "metadata": {},
     "output_type": "execute_result"
    }
   ],
   "source": [
    "y_DecisionTree = DecisionTree_regr.predict(Xt)\n",
    "y_Bagging = Bagging_regr.predict(Xt)\n",
    "y_Lasso = Lasso_regr.predict(Xt)\n",
    "y_NeuralNetwork = NeuralNetwork_regr.predict(Xt)\n",
    "\n",
    "Y = {\n",
    "  \"GT\":yt,\n",
    "  \"DecisionTree\":y_DecisionTree,\n",
    "  \"Bagging\":y_Bagging,\n",
    "  \"Lasso\":y_Lasso,\n",
    "  \"NeuralNetwork\":y_NeuralNetwork,\n",
    "}\n",
    "\n",
    "interact(Y_ploter,Range=RangeSlider,Y=fixed(Y))"
   ]
  },
  {
   "cell_type": "code",
   "execution_count": 12,
   "metadata": {
    "scrolled": false
   },
   "outputs": [
    {
     "data": {
      "application/vnd.jupyter.widget-view+json": {
       "model_id": "3d284c6ede6a447486e85053896464be",
       "version_major": 2,
       "version_minor": 0
      },
      "text/html": [
       "<p>Failed to display Jupyter Widget of type <code>interactive</code>.</p>\n",
       "<p>\n",
       "  If you're reading this message in the Jupyter Notebook or JupyterLab Notebook, it may mean\n",
       "  that the widgets JavaScript is still loading. If this message persists, it\n",
       "  likely means that the widgets JavaScript library is either not installed or\n",
       "  not enabled. See the <a href=\"https://ipywidgets.readthedocs.io/en/stable/user_install.html\">Jupyter\n",
       "  Widgets Documentation</a> for setup instructions.\n",
       "</p>\n",
       "<p>\n",
       "  If you're reading this message in another frontend (for example, a static\n",
       "  rendering on GitHub or <a href=\"https://nbviewer.jupyter.org/\">NBViewer</a>),\n",
       "  it may mean that your frontend doesn't currently support widgets.\n",
       "</p>\n"
      ],
      "text/plain": [
       "interactive(children=(IntRangeSlider(value=(8311, 8391), continuous_update=False, description='Test:', layout=Layout(height='50px', width='90%'), max=13096, min=1, step=10), Output()), _dom_classes=('widget-interact',))"
      ]
     },
     "metadata": {},
     "output_type": "display_data"
    },
    {
     "data": {
      "text/plain": [
       "<function __main__.general_data_ploter>"
      ]
     },
     "execution_count": 12,
     "metadata": {},
     "output_type": "execute_result"
    }
   ],
   "source": [
    "Xs = [scaler(yt),\n",
    "      #X['s3'],X['a3'],X['sd3'],\n",
    "      #X['s4'],X['a4'],X['sd4'],\n",
    "      X['s3'],\n",
    "      X['s4'],\n",
    "      X['s6'],\n",
    "      X['s7'],\n",
    "      X['s8'],\n",
    "      X['s9'],\n",
    "      X['s11'],\n",
    "      X['s12'],\n",
    "      X['s13'],\n",
    "      X['s14'],\n",
    "      X['s15'],\n",
    "      X['s16'],\n",
    "      X['s17'],\n",
    "     ]\n",
    "interact(general_data_ploter,Range=RangeSlider,Xs=fixed(Xs),y=fixed(yt),scale_y=fixed(True))"
   ]
  },
  {
   "cell_type": "code",
   "execution_count": null,
   "metadata": {},
   "outputs": [],
   "source": []
  }
 ],
 "metadata": {
  "kernelspec": {
   "display_name": "Python 3",
   "language": "python",
   "name": "python3"
  },
  "language_info": {
   "codemirror_mode": {
    "name": "ipython",
    "version": 3
   },
   "file_extension": ".py",
   "mimetype": "text/x-python",
   "name": "python",
   "nbconvert_exporter": "python",
   "pygments_lexer": "ipython3",
   "version": "3.6.1"
  }
 },
 "nbformat": 4,
 "nbformat_minor": 2
}
